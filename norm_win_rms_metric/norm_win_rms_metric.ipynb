{
 "cells": [
  {
   "cell_type": "code",
   "execution_count": 3,
   "metadata": {},
   "outputs": [
    {
     "name": "stderr",
     "output_type": "stream",
     "text": [
      "C:\\Users\\Joseph\\AppData\\Local\\Packages\\PythonSoftwareFoundation.Python.3.11_qbz5n2kfra8p0\\LocalCache\\local-packages\\Python311\\site-packages\\tqdm\\auto.py:21: TqdmWarning: IProgress not found. Please update jupyter and ipywidgets. See https://ipywidgets.readthedocs.io/en/stable/user_install.html\n",
      "  from .autonotebook import tqdm as notebook_tqdm\n"
     ]
    }
   ],
   "source": [
    "import torchaudio\n",
    "import noisereduce as nr\n",
    "# from torchaudio.functional import *\n",
    "import torch as tr\n",
    "import matplotlib.pyplot as plt"
   ]
  },
  {
   "cell_type": "code",
   "execution_count": 52,
   "metadata": {},
   "outputs": [
    {
     "name": "stdout",
     "output_type": "stream",
     "text": [
      "Sample length is 217.6s\n"
     ]
    }
   ],
   "source": [
    "x1, sr = torchaudio.load('../normalized/sensor_1.wav')\n",
    "x2, sr = torchaudio.load('../normalized/sensor_2.wav')\n",
    "x3, sr = torchaudio.load('../normalized/sensor_3.wav')\n",
    "x_test, sr = torchaudio.load('../normalized/test_rec.wav')\n",
    "x_clean, sr = torchaudio.load('../uniform_mix_reduced/uni_mix_reduced_output.wav')\n",
    "print(f\"Sample length is {x_test.shape[1] / sr:2.1f}s\")"
   ]
  },
  {
   "cell_type": "code",
   "execution_count": 69,
   "metadata": {},
   "outputs": [],
   "source": [
    "def windows(length, window_size):\n",
    "    for j in range(0, length, window_size):\n",
    "        yield j, j + window_size - 1"
   ]
  },
  {
   "cell_type": "code",
   "execution_count": 63,
   "metadata": {},
   "outputs": [],
   "source": [
    "def windowed_energy_loss(xa, xb, N, window_length=1):\n",
    "    Ea = tr.sqrt(tr.sum(xa**2))\n",
    "    Eb = tr.sqrt(tr.sum(xb**2))\n",
    "    y = []\n",
    "    for i, j in windows(N, int(window_length * sr)):\n",
    "        a = xa[i:j] / Ea # Normalize inputs to make independent of volume\n",
    "        b = xb[i:j] / Eb\n",
    "        y.append(tr.sqrt(tr.sum((a-b)**2))) # root-mean-square-error\n",
    "    y = tr.Tensor(y)\n",
    "    return tr.sum(y)"
   ]
  },
  {
   "cell_type": "code",
   "execution_count": 64,
   "metadata": {},
   "outputs": [],
   "source": [
    "kargs = {'N':x_test.shape[1], 'window_length':.5}"
   ]
  },
  {
   "cell_type": "code",
   "execution_count": 65,
   "metadata": {},
   "outputs": [
    {
     "name": "stdout",
     "output_type": "stream",
     "text": [
      "tensor(25.9527)\n"
     ]
    }
   ],
   "source": [
    "print(windowed_energy_loss(x1[0], x_test[0], **kargs))"
   ]
  },
  {
   "cell_type": "code",
   "execution_count": 66,
   "metadata": {},
   "outputs": [
    {
     "name": "stdout",
     "output_type": "stream",
     "text": [
      "tensor(26.5878)\n"
     ]
    }
   ],
   "source": [
    "print(windowed_energy_loss(x2[0], x_test[0], **kargs))"
   ]
  },
  {
   "cell_type": "code",
   "execution_count": 67,
   "metadata": {},
   "outputs": [
    {
     "name": "stdout",
     "output_type": "stream",
     "text": [
      "tensor(26.7217)\n"
     ]
    }
   ],
   "source": [
    "print(windowed_energy_loss(x3[0], x_test[0], **kargs))"
   ]
  },
  {
   "cell_type": "code",
   "execution_count": 68,
   "metadata": {},
   "outputs": [
    {
     "name": "stdout",
     "output_type": "stream",
     "text": [
      "tensor(23.6870)\n"
     ]
    }
   ],
   "source": [
    "print(windowed_energy_loss(x_test[0], x_clean[0], **kargs))"
   ]
  }
 ],
 "metadata": {
  "kernelspec": {
   "display_name": "Python 3",
   "language": "python",
   "name": "python3"
  },
  "language_info": {
   "codemirror_mode": {
    "name": "ipython",
    "version": 3
   },
   "file_extension": ".py",
   "mimetype": "text/x-python",
   "name": "python",
   "nbconvert_exporter": "python",
   "pygments_lexer": "ipython3",
   "version": "3.11.8"
  }
 },
 "nbformat": 4,
 "nbformat_minor": 2
}
